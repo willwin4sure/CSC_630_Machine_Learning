{
 "cells": [
  {
   "cell_type": "markdown",
   "id": "b7acc8ca",
   "metadata": {},
   "source": [
    "# PyTorch Tutorial\n",
    "\n",
    "**William Yue**\n",
    "\n",
    "In this Jupyter notebook, my goal is to gain familiarity with PyTorch by following the [online tutorials](https://pytorch.org/tutorials/). Hopefully I will know how it works at the end."
   ]
  },
  {
   "cell_type": "markdown",
   "id": "1b56f409",
   "metadata": {},
   "source": [
    "## §1 Introduction to PyTorch\n",
    "\n",
    "### §1.1 Tensors\n",
    "\n",
    "Let's start by getting `torch` and `numpy` in here."
   ]
  },
  {
   "cell_type": "code",
   "execution_count": 1,
   "id": "822745ab",
   "metadata": {},
   "outputs": [],
   "source": [
    "import torch\n",
    "import numpy as np"
   ]
  },
  {
   "cell_type": "markdown",
   "id": "9be15c71",
   "metadata": {},
   "source": [
    "Tensors appear to just be `torch`'s version of a matrix or multi-dimensional array, similar to `numpy`'s ndarrays. The difference is that tensors can run on GPUs or other fast hardware. They are also optimized for automatic differentiation.\n",
    "\n",
    "#### Initializing a Tensor\n",
    "\n",
    "There are several ways to make a tensor:"
   ]
  },
  {
   "cell_type": "code",
   "execution_count": 2,
   "id": "033f797a",
   "metadata": {},
   "outputs": [
    {
     "name": "stdout",
     "output_type": "stream",
     "text": [
      "tensor([[1, 2, 3],\n",
      "        [4, 5, 6]])\n"
     ]
    }
   ],
   "source": [
    "data = [[1,2,3],[4,5,6]]\n",
    "x_data = torch.tensor(data)\n",
    "print(x_data)"
   ]
  },
  {
   "cell_type": "code",
   "execution_count": 3,
   "id": "ba761585",
   "metadata": {},
   "outputs": [
    {
     "name": "stdout",
     "output_type": "stream",
     "text": [
      "tensor([[0, 1, 2],\n",
      "        [3, 4, 5]], dtype=torch.int32)\n"
     ]
    }
   ],
   "source": [
    "np_data = np.arange(6).reshape(2,3)\n",
    "x_np = torch.tensor(np_data)\n",
    "print(x_np)"
   ]
  },
  {
   "cell_type": "code",
   "execution_count": 4,
   "id": "f7455102",
   "metadata": {},
   "outputs": [
    {
     "name": "stdout",
     "output_type": "stream",
     "text": [
      "tensor([[1, 1, 1],\n",
      "        [1, 1, 1]])\n",
      "tensor([[0.9070, 0.3716, 0.7858],\n",
      "        [0.3597, 0.3969, 0.3406]])\n"
     ]
    }
   ],
   "source": [
    "x_ones = torch.ones_like(x_data)\n",
    "print(x_ones)\n",
    "\n",
    "x_rand = torch.rand_like(x_data, dtype=torch.float)\n",
    "print(x_rand)"
   ]
  },
  {
   "cell_type": "markdown",
   "id": "e61c4501",
   "metadata": {},
   "source": [
    "Note that we have a problem if we don't convert the `dtype` in the `torch.rand_like` function:"
   ]
  },
  {
   "cell_type": "code",
   "execution_count": 6,
   "id": "573fd5cc",
   "metadata": {},
   "outputs": [],
   "source": [
    "# x_rand_test = torch.rand_like(x_data)"
   ]
  },
  {
   "cell_type": "markdown",
   "id": "34295942",
   "metadata": {},
   "source": [
    "This appears to be because the initial tensor `x_data` has the datatype `long` (64-bit integer, according to [documentation](https://pytorch.org/docs/stable/tensor_attributes.html)), and there is no way to sample a random number in the interval `[0,1)` for this datatype.\n",
    "\n",
    "We can also directly specify the shape for `torch.rand`, `torch.ones`, and `torch.zeros`:"
   ]
  },
  {
   "cell_type": "code",
   "execution_count": 8,
   "id": "2bbc4cf5",
   "metadata": {},
   "outputs": [
    {
     "name": "stdout",
     "output_type": "stream",
     "text": [
      "tensor([[0.1019, 0.0122, 0.8198],\n",
      "        [0.3472, 0.7889, 0.7571]])\n",
      "tensor([[1., 1., 1.],\n",
      "        [1., 1., 1.]])\n",
      "tensor([[0., 0., 0.],\n",
      "        [0., 0., 0.]])\n",
      "tensor([[1., 1., 1., 1., 1.],\n",
      "        [1., 1., 1., 1., 1.],\n",
      "        [1., 1., 1., 1., 1.],\n",
      "        [1., 1., 1., 1., 1.]])\n"
     ]
    }
   ],
   "source": [
    "shape=(2,3)\n",
    "rand_tensor = torch.rand(shape)\n",
    "ones_tensor = torch.ones(shape)\n",
    "zeros_tensor = torch.zeros(shape)\n",
    "\n",
    "print(rand_tensor,ones_tensor,zeros_tensor,sep='\\n')\n",
    "\n",
    "another_ones_tensor = torch.ones(4,5)\n",
    "print(another_ones_tensor)"
   ]
  },
  {
   "cell_type": "markdown",
   "id": "c4edc424",
   "metadata": {},
   "source": [
    "There are several attributes of tensors that we can check:"
   ]
  },
  {
   "cell_type": "code",
   "execution_count": 9,
   "id": "9bb0475d",
   "metadata": {},
   "outputs": [
    {
     "name": "stdout",
     "output_type": "stream",
     "text": [
      "torch.Size([3, 4])\n",
      "torch.float32\n",
      "cpu\n"
     ]
    }
   ],
   "source": [
    "tensor = torch.rand(3,4)\n",
    "\n",
    "print(tensor.shape)\n",
    "print(tensor.dtype)\n",
    "print(tensor.device)"
   ]
  },
  {
   "cell_type": "markdown",
   "id": "c3160191",
   "metadata": {},
   "source": [
    "#### Operations on Tensors\n",
    "\n",
    "If you're observant, you'll notice that the device above that the tensor is stored on is a CPU! It turns out that by default, all tensors are initialized with `cpu` as their device. I'm on a Makerspace computer that comes with a NVIDIA GPU that supports CUDA, so we'll want to convert the device to a GPU possible. We can first check if CUDA is available before switching the tensor to that using the `.to` command."
   ]
  },
  {
   "cell_type": "code",
   "execution_count": 10,
   "id": "a2bbb014",
   "metadata": {},
   "outputs": [
    {
     "name": "stdout",
     "output_type": "stream",
     "text": [
      "tensor([[0.3753, 0.9576, 0.0174, 0.1257],\n",
      "        [0.2037, 0.4650, 0.6975, 0.6710],\n",
      "        [0.3747, 0.2638, 0.1194, 0.6882]])\n"
     ]
    }
   ],
   "source": [
    "if torch.cuda.is_available():\n",
    "    tensor = tensor.to('cuda')\n",
    "\n",
    "print(tensor)"
   ]
  },
  {
   "cell_type": "markdown",
   "id": "a816e089",
   "metadata": {},
   "source": [
    "Looks better now!\n",
    "\n",
    "Tensors can be operated on similar to `numpy` arrays, with standard indexing and slicing."
   ]
  },
  {
   "cell_type": "code",
   "execution_count": 11,
   "id": "6da2dea8",
   "metadata": {},
   "outputs": [
    {
     "name": "stdout",
     "output_type": "stream",
     "text": [
      "tensor([[0.7572, 0.8171, 0.7111, 0.8652],\n",
      "        [0.8017, 0.8379, 0.3607, 0.3772],\n",
      "        [0.7459, 0.2045, 0.1642, 0.1477],\n",
      "        [0.7906, 0.6124, 0.2370, 0.8824]])\n",
      "tensor([0.7572, 0.8171, 0.7111, 0.8652])\n",
      "tensor([[0.7572, 0.8171, 0.7111, 0.8652]])\n",
      "tensor([0.7572, 0.8017, 0.7459, 0.7906])\n",
      "tensor([0.8652, 0.3772, 0.1477, 0.8824])\n"
     ]
    }
   ],
   "source": [
    "tensor = torch.rand(4,4)\n",
    "print(tensor)\n",
    "\n",
    "print(tensor[0])\n",
    "print(tensor[0:1])\n",
    "print(tensor[:,0])\n",
    "print(tensor[:,-1])"
   ]
  },
  {
   "cell_type": "markdown",
   "id": "51cc0e8a",
   "metadata": {},
   "source": [
    "Note that similar to `numpy` arrays, `tensor[0]` and `tensor[0:1]` have different dimensionalities. We can also do standard concatenation along a given `dim` (not `axis`) using `torch.cat`. "
   ]
  },
  {
   "cell_type": "code",
   "execution_count": 12,
   "id": "7b6e8d47",
   "metadata": {},
   "outputs": [
    {
     "name": "stdout",
     "output_type": "stream",
     "text": [
      "tensor([[0.7572, 0.8171, 0.7111, 0.8652],\n",
      "        [0.8017, 0.8379, 0.3607, 0.3772],\n",
      "        [0.7459, 0.2045, 0.1642, 0.1477],\n",
      "        [0.7906, 0.6124, 0.2370, 0.8824],\n",
      "        [0.7572, 0.8171, 0.7111, 0.8652],\n",
      "        [0.8017, 0.8379, 0.3607, 0.3772],\n",
      "        [0.7459, 0.2045, 0.1642, 0.1477],\n",
      "        [0.7906, 0.6124, 0.2370, 0.8824],\n",
      "        [0.7572, 0.8171, 0.7111, 0.8652],\n",
      "        [0.8017, 0.8379, 0.3607, 0.3772],\n",
      "        [0.7459, 0.2045, 0.1642, 0.1477],\n",
      "        [0.7906, 0.6124, 0.2370, 0.8824]])\n",
      " ----- \n",
      "tensor([[0.7572, 0.8171, 0.7111, 0.8652, 0.7572, 0.8171, 0.7111, 0.8652, 0.7572,\n",
      "         0.8171, 0.7111, 0.8652],\n",
      "        [0.8017, 0.8379, 0.3607, 0.3772, 0.8017, 0.8379, 0.3607, 0.3772, 0.8017,\n",
      "         0.8379, 0.3607, 0.3772],\n",
      "        [0.7459, 0.2045, 0.1642, 0.1477, 0.7459, 0.2045, 0.1642, 0.1477, 0.7459,\n",
      "         0.2045, 0.1642, 0.1477],\n",
      "        [0.7906, 0.6124, 0.2370, 0.8824, 0.7906, 0.6124, 0.2370, 0.8824, 0.7906,\n",
      "         0.6124, 0.2370, 0.8824]])\n"
     ]
    }
   ],
   "source": [
    "t0 = torch.cat([tensor]*3, dim=0)\n",
    "t1 = torch.cat([tensor]*3, dim=1)\n",
    "\n",
    "print(t0,t1,sep='\\n ----- \\n')"
   ]
  },
  {
   "cell_type": "markdown",
   "id": "625ddbb6",
   "metadata": {},
   "source": [
    "We also have standard arithmetic operations. Three ways to do matrix multiplication are shown below, using `@` and `matmul`. `y1`, `y2`, and `y3` should have the same value. Note that `.T` transposes the matrix."
   ]
  },
  {
   "cell_type": "code",
   "execution_count": 13,
   "id": "25e30a1c",
   "metadata": {},
   "outputs": [
    {
     "data": {
      "text/plain": [
       "tensor([[2.4952, 1.8745, 0.9765, 2.0310],\n",
       "        [1.8745, 1.6172, 0.8843, 1.5653],\n",
       "        [0.9765, 0.8843, 0.6470, 0.8843],\n",
       "        [2.0310, 1.5653, 0.8843, 1.8349]])"
      ]
     },
     "execution_count": 13,
     "metadata": {},
     "output_type": "execute_result"
    }
   ],
   "source": [
    "y1 = tensor @ tensor.T\n",
    "y2 = tensor.matmul(tensor.T)\n",
    "y3 = torch.rand(tensor.shape)\n",
    "torch.matmul(tensor, tensor.T, out=y3)"
   ]
  },
  {
   "cell_type": "markdown",
   "id": "d41b6cf5",
   "metadata": {},
   "source": [
    "If you want to do element-wise multiplication instead, you can use `*` or `mul` instead."
   ]
  },
  {
   "cell_type": "code",
   "execution_count": 14,
   "id": "de77f76b",
   "metadata": {},
   "outputs": [
    {
     "data": {
      "text/plain": [
       "tensor([[0.5733, 0.6676, 0.5057, 0.7485],\n",
       "        [0.6428, 0.7021, 0.1301, 0.1423],\n",
       "        [0.5564, 0.0418, 0.0270, 0.0218],\n",
       "        [0.6251, 0.3750, 0.0562, 0.7786]])"
      ]
     },
     "execution_count": 14,
     "metadata": {},
     "output_type": "execute_result"
    }
   ],
   "source": [
    "z1 = tensor * tensor\n",
    "z2 = tensor.mul(tensor)\n",
    "z3 = torch.rand(tensor.shape) # note that using torch.rand_like also works\n",
    "torch.mul(tensor, tensor, out=z3)"
   ]
  },
  {
   "cell_type": "markdown",
   "id": "47c72474",
   "metadata": {},
   "source": [
    "If your tensor has one element (for example if you summed everything in the tensor), you can get that element out using `.item()`."
   ]
  },
  {
   "cell_type": "code",
   "execution_count": 15,
   "id": "8a1dbeba",
   "metadata": {},
   "outputs": [
    {
     "name": "stdout",
     "output_type": "stream",
     "text": [
      "tensor(9.3129)\n",
      "<class 'torch.Tensor'>\n",
      "9.312896728515625\n",
      "<class 'float'>\n"
     ]
    }
   ],
   "source": [
    "agg = tensor.sum()\n",
    "print(agg, type(agg), sep='\\n')\n",
    "agg_item = agg.item()\n",
    "print(agg_item, type(agg_item), sep='\\n')"
   ]
  },
  {
   "cell_type": "markdown",
   "id": "b076abfe",
   "metadata": {},
   "source": [
    "### §1.2 Datasets and DataLoaders\n",
    "\n",
    "Ideally, our dataset code is separate from our mdoel training code. This makes it more *readable* and more *modular*. PyTorch has two data primitives: `torch.utils.data.DataLoader` and `torch.utils.data.Dataset`.\n",
    "\n",
    "`Dataset` stores the actual data: the samples and labels, while `DataLoader` wraps an iterable around the `Dataset` for easy access to the samples.\n",
    "\n",
    "There are also plenty of pre-loaded datasets in the PyTorch domain libraries.\n",
    "\n",
    "#### Loading a Dataset\n",
    "\n",
    "Let's try to load the [FasionMNIST Dataset](https://research.zalando.com/project/fashion_mnist/fashion_mnist/) from TorchVision. It has 60,000 training exmaples and 10,000 test examples. Each example is a 28-by-28 grayscale image with a label from one of ten classes:\n",
    "\n",
    "* T-shirt/Top\n",
    "* Trouser\n",
    "* Pullover\n",
    "* Dress\n",
    "* Coat\n",
    "* Sandal\n",
    "* Shirt\n",
    "* Sneaker\n",
    "* Bag\n",
    "* Ankle Boot"
   ]
  },
  {
   "cell_type": "code",
   "execution_count": 37,
   "id": "f05cedd9",
   "metadata": {},
   "outputs": [],
   "source": [
    "import torch\n",
    "from torch.utils.data import Dataset\n",
    "from torchvision import datasets\n",
    "from torchvision.transforms import ToTensor\n",
    "import matplotlib.pyplot as plt\n",
    "\n",
    "training_data = datasets.FashionMNIST(\n",
    "    root='data', # path where train/test data is stored\n",
    "    train=True, # want the training dataset\n",
    "    download=True, # download the data from internet if it's not in root\n",
    "    transform=ToTensor() # transformations -- converts np arrays or PIL images into tensors\n",
    ")\n",
    "\n",
    "test_data = datasets.FashionMNIST(\n",
    "    root='data',\n",
    "    train=False,\n",
    "    download=True,\n",
    "    transform=ToTensor()\n",
    ")"
   ]
  },
  {
   "cell_type": "markdown",
   "id": "b9b3da9c",
   "metadata": {},
   "source": [
    "#### Iterating and Visualizing the Dataset\n",
    "\n",
    "`Dataset`s can be manually indexed, just like a list: `training_data[index]`. Let's visualize our dataset using `matplotlib`."
   ]
  },
  {
   "cell_type": "code",
   "execution_count": 38,
   "id": "70b23ec0",
   "metadata": {},
   "outputs": [
    {
     "data": {
      "image/png": "[encoded data removed]",
      "text/plain": [
       "<Figure size 576x576 with 9 Axes>"
      ]
     },
     "metadata": {
      "needs_background": "light"
     },
     "output_type": "display_data"
    }
   ],
   "source": [
    "labels_map = {\n",
    "    0: \"T-Shirt/Top\",\n",
    "    1: \"Trouser\",\n",
    "    2: \"Pullover\",\n",
    "    3: \"Dress\",\n",
    "    4: \"Coat\",\n",
    "    5: \"Sandal\",\n",
    "    6: \"Shirt\",\n",
    "    7: \"Sneaker\",\n",
    "    8: \"Bag\",\n",
    "    9: \"Ankle Boot\",\n",
    "}\n",
    "\n",
    "figure = plt.figure(figsize=(8,8))\n",
    "cols, rows = 3,3\n",
    "for i in range(1, cols*rows+1):\n",
    "    sample_idx = torch.randint(len(training_data), size=(1,)).item() # grabs a single sample from the training_data\n",
    "    img, label = training_data[sample_idx] # each sample is a tuple with the tensor and label\n",
    "    figure.add_subplot(rows,cols,i) # draw the subplot at index i\n",
    "    plt.title(labels_map[label]) # map the labels to the name of the labels and name each subplot\n",
    "    plt.axis(\"off\") # removes the axes from the plots\n",
    "    plt.imshow(img[0], cmap=\"gray\") # draw the image in greyscale\n",
    "plt.show()"
   ]
  },
  {
   "cell_type": "markdown",
   "id": "0124933c",
   "metadata": {},
   "source": [
    "#### Creating a Custom Dataset for Files\n",
    "\n",
    "Custom datasets should extend `torch.utils.data.Dataset` and implement three magic methods: `__init__`, `__len__`, and `__getitem__`. \n",
    "\n",
    "Below is an example. Usually, people have `__getitem__` output a tuple, but *Ali Yang* likes using a dictionary, and I do the same."
   ]
  },
  {
   "cell_type": "code",
   "execution_count": 39,
   "id": "5c6cc162",
   "metadata": {},
   "outputs": [],
   "source": [
    "import os\n",
    "import pandas as pd\n",
    "from torchvision.io import read_image\n",
    "\n",
    "class CustomImageDataset(Dataset):\n",
    "    def __init__(self, annotations_file, img_dir, transform=None, target_transform=None):\n",
    "        self.img_labels = pd.read_csv(annotations_file)\n",
    "        self.img_dir = img_dir\n",
    "        self.transform = transform\n",
    "        self.target_transform = target_transform\n",
    "\n",
    "    def __len__(self):\n",
    "        return len(self.img_labels)\n",
    "\n",
    "    def __getitem__(self, idx):\n",
    "        img_path = os.path.join(self.img_dir, self.img_labels.iloc[idx, 0])\n",
    "        image = read_image(img_path)\n",
    "        label = self.img_labels.iloc[idx, 1]\n",
    "        if self.transform:\n",
    "            image = self.transform(image)\n",
    "        if self.target_transform:\n",
    "            label = self.target_transform(label)\n",
    "        return {'image': image, 'label': label}"
   ]
  },
  {
   "cell_type": "markdown",
   "id": "5cadcb55",
   "metadata": {},
   "source": [
    "#### Preparing Your Data for Training with DataLoaders\n",
    "\n",
    "`Dataset`s can only retrieve samples one at a time. However, when training, we usually want to pass samples in batches and reshuffle the data each epoch (each cycle through the entire dataset).\n",
    "\n",
    "`DataLoader`s do all this work for us."
   ]
  },
  {
   "cell_type": "code",
   "execution_count": 40,
   "id": "a6d6e32d",
   "metadata": {},
   "outputs": [],
   "source": [
    "from torch.utils.data import DataLoader\n",
    "\n",
    "train_dataloader = DataLoader(training_data, batch_size=64, shuffle=True)\n",
    "test_dataloader = DataLoader(test_data, batch_size=64, shuffle=True)"
   ]
  },
  {
   "cell_type": "markdown",
   "id": "6e1f3140",
   "metadata": {},
   "source": [
    "#### Iterate Through the DataLoader\n",
    "\n",
    "Each iteration in the `DataLoader` below returns a batch of `train_features` and `train_labels`, with `batch_size=64` elements."
   ]
  },
  {
   "cell_type": "code",
   "execution_count": 46,
   "id": "0d098eed",
   "metadata": {},
   "outputs": [
    {
     "name": "stdout",
     "output_type": "stream",
     "text": [
      "Feature batch shape: torch.Size([64, 1, 28, 28])\n",
      "Labels batch shape: torch.Size([64])\n"
     ]
    },
    {
     "data": {
      "image/png": "[encoded data removed]",
      "text/plain": [
       "<Figure size 432x288 with 1 Axes>"
      ]
     },
     "metadata": {
      "needs_background": "light"
     },
     "output_type": "display_data"
    },
    {
     "name": "stdout",
     "output_type": "stream",
     "text": [
      "Label: Sandal\n"
     ]
    }
   ],
   "source": [
    "# Display image and label.\n",
    "train_features, train_labels = next(iter(train_dataloader))\n",
    "print(f\"Feature batch shape: {train_features.size()}\")\n",
    "print(f\"Labels batch shape: {train_labels.size()}\")\n",
    "img = train_features[0].squeeze()\n",
    "label = train_labels[0]\n",
    "plt.imshow(img, cmap=\"gray\")\n",
    "plt.show()\n",
    "print(f\"Label: {labels_map[label.item()]}\")"
   ]
  },
  {
   "cell_type": "markdown",
   "id": "868e4a3d",
   "metadata": {},
   "source": [
    "### §1.3 Transforms\n",
    "\n",
    "If you were attentive in the previous section, you would've realized that we used `ToTensor()` as a `transform` parameter when initializing the dataset. These **transforms** help us manipulate the data is a dataset to make it suitable for training in a machine learning algorithm.\n",
    "\n",
    "For TorchVision datasets, all of them contain two parameters, `transform` for the features and `target_tranforms` for the labels. The `torchvision.transforms`module offers several commonly-used transforms."
   ]
  },
  {
   "cell_type": "code",
   "execution_count": 7,
   "id": "10245dd1",
   "metadata": {},
   "outputs": [
    {
     "name": "stdout",
     "output_type": "stream",
     "text": [
      "tensor([0., 0., 0., 0., 0., 1., 0., 0., 0., 0.])\n"
     ]
    }
   ],
   "source": [
    "import torch\n",
    "from torchvision import datasets\n",
    "from torchvision.transforms import ToTensor, Lambda\n",
    "\n",
    "ds = datasets.FashionMNIST(\n",
    "    root=\"data\",\n",
    "    train=True,\n",
    "    download=True,\n",
    "    transform=ToTensor(),\n",
    "    target_transform=Lambda(lambda y: torch.zeros(10, dtype=torch.float).scatter_(dim=0,\n",
    "    index=torch.tensor(y), value=1)) # one-hot encoding the targets\n",
    ")\n",
    "\n",
    "_, label = ds[12]\n",
    "print(label)"
   ]
  },
  {
   "cell_type": "markdown",
   "id": "c6bd50d8",
   "metadata": {},
   "source": [
    "#### ToTensor()\n",
    "`ToTensor()` is a function that converts TIL images or `numpy` arrays into `FloatTensor`s, scalikng the image's pixel intensity values into the range `[0.,1.]`.\n",
    "\n",
    "#### Lambda Transforms\n",
    "Lambda transforms will apply any user-defined lambda function. In the example above, we turn the integer into a one-hot encoded tensor.\n"
   ]
  },
  {
   "cell_type": "markdown",
   "id": "c89f1828",
   "metadata": {},
   "source": [
    "### §1.4 Build the Neural Network\n",
    "\n",
    "Neural networks consist of many layers that perform operations on the data. 3Blue1Brown has a nice introductory [video series](https://www.youtube.com/watch?v=aircAruvnKk) on neural networks. The `torch.nn`namespace provides all the necessary building blocks."
   ]
  },
  {
   "cell_type": "code",
   "execution_count": 8,
   "id": "9cefc279",
   "metadata": {},
   "outputs": [
    {
     "name": "stdout",
     "output_type": "stream",
     "text": [
      "Using cpu as the device\n"
     ]
    }
   ],
   "source": [
    "import os\n",
    "import torch\n",
    "\n",
    "device = 'cuda' if torch.cuda.is_available() else 'cpu' # checking if we can run on GPU\n",
    "print(f'Using {device} as the device')"
   ]
  },
  {
   "cell_type": "markdown",
   "id": "be3a5df1",
   "metadata": {},
   "source": [
    "#### Define the Class\n",
    "\n",
    "We can define the class of our neural network by inheriting from `nn.Module`, and initializing the model architecture in `__init__`. Every `nn.Module` subclass implements the operations on input data in the `forward` method."
   ]
  },
  {
   "cell_type": "code",
   "execution_count": 10,
   "id": "0c90d131",
   "metadata": {},
   "outputs": [
    {
     "name": "stdout",
     "output_type": "stream",
     "text": [
      "NeuralNetwork(\n",
      "  (flatten): Flatten(start_dim=1, end_dim=-1)\n",
      "  (linear_relu_stack): Sequential(\n",
      "    (0): Linear(in_features=784, out_features=512, bias=True)\n",
      "    (1): ReLU()\n",
      "    (2): Linear(in_features=512, out_features=512, bias=True)\n",
      "    (3): ReLU()\n",
      "    (4): Linear(in_features=512, out_features=10, bias=True)\n",
      "  )\n",
      ")\n"
     ]
    }
   ],
   "source": [
    "class NeuralNetwork(torch.nn.Module):\n",
    "    def __init__(self):\n",
    "        super(NeuralNetwork, self).__init__() # initialize as nn.Module first\n",
    "        self.flatten = torch.nn.Flatten()\n",
    "        self.linear_relu_stack = torch.nn.Sequential(\n",
    "            torch.nn.Linear(28*28, 512),\n",
    "            torch.nn.ReLU(),\n",
    "            torch.nn.Linear(512, 512),\n",
    "            torch.nn.ReLU(),\n",
    "            torch.nn.Linear(512, 10),\n",
    "        )\n",
    "        \n",
    "    def forward(self, x):\n",
    "        x = self.flatten(x)\n",
    "        logits = self.linear_relu_stack(x)\n",
    "        return logits\n",
    "\n",
    "model = NeuralNetwork().to(device)\n",
    "print(model)"
   ]
  },
  {
   "cell_type": "markdown",
   "id": "95735127",
   "metadata": {},
   "source": [
    "### Summary of Section 1\n",
    "\n",
    "**1.1 Tensors**\n",
    "* Tensors are PyTorch's version of matrices, similar to `numpy`'s ndarrays.\n",
    "* There are many ways to create them: `torch.tensor()`, `torch.from_numpy()`, `torch.rand_like()`, and `torch.ones()`.\n",
    "* We can check if CUDA is on our computer using `torch.cuda.is_available()`. Tensors are normally initialized with device `cpu`, so we need to convert them to CUDA using `.to('cuda')`. The operation `.cuda()` also works.\n",
    "* Tensors can be sliced like `numpy` arrays using similar operations. There's normal slicing, `tensor.cat` for joining tensors, across dimension `dim`, and standard matrix multiplication or element-wise multiplication by `@` or `*`, respectively (`matmul` and `mul` also work, respectively).\n",
    "* Given a tensor of a single element, we can use `.item()` to extract it.\n",
    "\n",
    "**1.2 Datasets & DataLoaders**\n",
    "* PyTorch has two dataset primitives: `torch.utils.data.Dataset` and `torch.utils.data.Dataloader`. The former stores the actual data while the latter wraps an iterable around the `Dataset` for easy access.\n",
    "* Datasets can be indexed, e.g. `training_data[index]`.\n",
    "* Custom datasets should extend the `torch.utils.data.Dataset` class and implement three functions: `__init__`, `__len__`, and `__getitem__`.\n",
    "* `DataLoader`s provide an easy API for batching the samples in a dataset for training and shuffling them each epoch.\n",
    "\n",
    "**1.3 Transforms**\n",
    "* Transforms are a way of modifying the data so they're suitable for training.\n",
    "* By default, TorchVision datasets have `transform=` for modifying the features and `target_transform=` for modifying the labels.\n",
    "* A common transform is `ToTensor()` for converting PIL images or `numpy` arrays.\n",
    "* A `Lambda` transform can also be used for any user-defined lambda function."
   ]
  }
 ],
 "metadata": {
  "interpreter": {
   "hash": "26e77fea996e7b17dab424a3e390ed13ca50101500042e78c594e90eaa7cfd1a"
  },
  "kernelspec": {
   "display_name": "Python 3 (ipykernel)",
   "language": "python",
   "name": "python3"
  },
  "language_info": {
   "codemirror_mode": {
    "name": "ipython",
    "version": 3
   },
   "file_extension": ".py",
   "mimetype": "text/x-python",
   "name": "python",
   "nbconvert_exporter": "python",
   "pygments_lexer": "ipython3",
   "version": "3.9.6"
  }
 },
 "nbformat": 4,
 "nbformat_minor": 5
}
